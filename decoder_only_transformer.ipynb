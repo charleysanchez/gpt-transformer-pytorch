{
 "cells": [
  {
   "cell_type": "code",
   "execution_count": 2,
   "id": "94996d39",
   "metadata": {},
   "outputs": [],
   "source": [
    "import torch\n",
    "import torch.nn as nn\n",
    "import torch.nn.functional as F\n",
    "\n",
    "from torch.optim import Adam\n",
    "from torch.utils.data import TensorDataset, DataLoader\n",
    "\n",
    "import lightning as L"
   ]
  },
  {
   "cell_type": "code",
   "execution_count": null,
   "id": "e1e52360",
   "metadata": {},
   "outputs": [],
   "source": [
    "# create vocabulary\n",
    "token_to_id = {\n",
    "    \"who\": 0,\n",
    "    \"is\": 1,\n",
    "    \"charley\": 2,\n",
    "    \"an\": 3,\n",
    "    \"awesome\": 4,\n",
    "    \"guy\": 5,\n",
    "    \"<EOS>\": 6,\n",
    "}\n",
    "\n",
    "# create reverse\n",
    "id_to_token = dict(map(reversed, token_to_id.items()))"
   ]
  }
 ],
 "metadata": {
  "kernelspec": {
   "display_name": "venv",
   "language": "python",
   "name": "python3"
  },
  "language_info": {
   "codemirror_mode": {
    "name": "ipython",
    "version": 3
   },
   "file_extension": ".py",
   "mimetype": "text/x-python",
   "name": "python",
   "nbconvert_exporter": "python",
   "pygments_lexer": "ipython3",
   "version": "3.10.16"
  }
 },
 "nbformat": 4,
 "nbformat_minor": 5
}
