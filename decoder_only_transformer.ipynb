{
 "cells": [
  {
   "cell_type": "code",
   "execution_count": 2,
   "id": "94996d39",
   "metadata": {},
   "outputs": [],
   "source": [
    "import torch\n",
    "import torch.nn as nn\n",
    "import torch.nn.functional as F\n",
    "\n",
    "from torch.optim import Adam\n",
    "from torch.utils.data import TensorDataset, DataLoader\n",
    "\n",
    "import lightning as L"
   ]
  },
  {
   "cell_type": "code",
   "execution_count": 3,
   "id": "e1e52360",
   "metadata": {},
   "outputs": [],
   "source": [
    "# create vocabulary\n",
    "token_to_id = {\n",
    "    \"who\": 0,\n",
    "    \"is\": 1,\n",
    "    \"charley\": 2,\n",
    "    \"an\": 3,\n",
    "    \"awesome\": 4,\n",
    "    \"guy\": 5,\n",
    "    \"<EOS>\": 6,\n",
    "}\n",
    "\n",
    "# create reverse\n",
    "id_to_token = dict(map(reversed, token_to_id.items()))"
   ]
  },
  {
   "cell_type": "code",
   "execution_count": 4,
   "id": "18c024be",
   "metadata": {},
   "outputs": [],
   "source": [
    "# create inputs\n",
    "inputs = torch.tensor([\n",
    "    [token_to_id[\"who\"],\n",
    "     token_to_id[\"is\"],\n",
    "     token_to_id[\"charley\"],\n",
    "     token_to_id[\"<EOS>\"],\n",
    "     token_to_id[\"an\"],\n",
    "     token_to_id[\"awesome\"],\n",
    "     token_to_id[\"guy\"]],\n",
    "\n",
    "    [token_to_id[\"charley\"],\n",
    "     token_to_id[\"is\"],\n",
    "     token_to_id[\"who\"],\n",
    "     token_to_id[\"<EOS>\"],\n",
    "     token_to_id[\"an\"],\n",
    "     token_to_id[\"awesome\"],\n",
    "     token_to_id[\"guy\"]]\n",
    "])\n",
    "\n",
    "# create labels\n",
    "labels = torch.tensor([\n",
    "    [token_to_id[\"is\"],\n",
    "     token_to_id[\"charley\"],\n",
    "     token_to_id[\"<EOS>\"],\n",
    "     token_to_id[\"an\"],\n",
    "     token_to_id[\"awesome\"],\n",
    "     token_to_id[\"guy\"],\n",
    "     token_to_id[\"<EOS>\"]],\n",
    "\n",
    "    [token_to_id[\"is\"],\n",
    "     token_to_id[\"who\"],\n",
    "     token_to_id[\"<EOS>\"],\n",
    "     token_to_id[\"an\"],\n",
    "     token_to_id[\"awesome\"],\n",
    "     token_to_id[\"guy\"],\n",
    "     token_to_id[\"<EOS>\"]]\n",
    "])\n",
    "\n",
    "# create dataset from inputs and labels\n",
    "dataset = TensorDataset(inputs, labels)"
   ]
  },
  {
   "cell_type": "code",
   "execution_count": null,
   "id": "c8815ead",
   "metadata": {},
   "outputs": [],
   "source": []
  }
 ],
 "metadata": {
  "kernelspec": {
   "display_name": "venv",
   "language": "python",
   "name": "python3"
  },
  "language_info": {
   "codemirror_mode": {
    "name": "ipython",
    "version": 3
   },
   "file_extension": ".py",
   "mimetype": "text/x-python",
   "name": "python",
   "nbconvert_exporter": "python",
   "pygments_lexer": "ipython3",
   "version": "3.10.16"
  }
 },
 "nbformat": 4,
 "nbformat_minor": 5
}
