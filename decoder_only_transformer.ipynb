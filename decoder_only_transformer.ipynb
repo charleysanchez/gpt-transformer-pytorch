{
 "cells": [
  {
   "cell_type": "code",
   "execution_count": 2,
   "id": "94996d39",
   "metadata": {},
   "outputs": [],
   "source": [
    "import torch\n",
    "import torch.nn as nn\n",
    "import torch.nn.functional as F\n",
    "\n",
    "from torch.optim import Adam\n",
    "from torch.utils.data import TensorDataset, DataLoader\n",
    "\n",
    "import lightning as L"
   ]
  },
  {
   "cell_type": "code",
   "execution_count": 3,
   "id": "e1e52360",
   "metadata": {},
   "outputs": [],
   "source": [
    "# create vocabulary\n",
    "token_to_id = {\n",
    "    \"who\": 0,\n",
    "    \"is\": 1,\n",
    "    \"charley\": 2,\n",
    "    \"an\": 3,\n",
    "    \"awesome\": 4,\n",
    "    \"guy\": 5,\n",
    "    \"<EOS>\": 6,\n",
    "}\n",
    "\n",
    "# create reverse\n",
    "id_to_token = dict(map(reversed, token_to_id.items()))"
   ]
  },
  {
   "cell_type": "code",
   "execution_count": null,
   "id": "18c024be",
   "metadata": {},
   "outputs": [],
   "source": [
    "# create inputs\n",
    "inputs = torch.tensor([\n",
    "    [token_to_id[\"who\"],\n",
    "     token_to_id[\"is\"],\n",
    "     token_to_id[\"charley\"],\n",
    "     token_to_id[\"<EOS>\"],\n",
    "     token_to_id[\"an\"],\n",
    "     token_to_id[\"awesome\"],\n",
    "     token_to_id[\"guy\"]],\n",
    "\n",
    "    [token_to_id[\"charley\"],\n",
    "     token_to_id[\"is\"],\n",
    "     token_to_id[\"who\"],\n",
    "     token_to_id[\"<EOS>\"],\n",
    "     token_to_id[\"an\"],\n",
    "     token_to_id[\"awesome\"],\n",
    "     token_to_id[\"guy\"]]\n",
    "])\n",
    "\n",
    "# create labels\n",
    "labels = torch.tensor([\n",
    "    [token_to_id[\"is\"],\n",
    "     token_to_id[\"charley\"],\n",
    "     token_to_id[\"<EOS>\"],\n",
    "     token_to_id[\"an\"],\n",
    "     token_to_id[\"awesome\"],\n",
    "     token_to_id[\"guy\"],\n",
    "     token_to_id[\"<EOS>\"]],\n",
    "\n",
    "    [token_to_id[\"is\"],\n",
    "     token_to_id[\"who\"],\n",
    "     token_to_id[\"<EOS>\"],\n",
    "     token_to_id[\"an\"],\n",
    "     token_to_id[\"awesome\"],\n",
    "     token_to_id[\"guy\"],\n",
    "     token_to_id[\"<EOS>\"]]\n",
    "])\n",
    "\n",
    "# create dataset from inputs and labels\n",
    "dataset = TensorDataset(inputs, labels)\n",
    "dataloader = DataLoader(dataset)"
   ]
  },
  {
   "cell_type": "code",
   "execution_count": 5,
   "id": "c8815ead",
   "metadata": {},
   "outputs": [
    {
     "ename": "TypeError",
     "evalue": "Embedding.__init__() missing 2 required positional arguments: 'num_embeddings' and 'embedding_dim'",
     "output_type": "error",
     "traceback": [
      "\u001b[0;31m---------------------------------------------------------------------------\u001b[0m",
      "\u001b[0;31mTypeError\u001b[0m                                 Traceback (most recent call last)",
      "Cell \u001b[0;32mIn[5], line 2\u001b[0m\n\u001b[1;32m      1\u001b[0m \u001b[38;5;66;03m# word embedding\u001b[39;00m\n\u001b[0;32m----> 2\u001b[0m embedding \u001b[38;5;241m=\u001b[39m \u001b[43mnn\u001b[49m\u001b[38;5;241;43m.\u001b[39;49m\u001b[43mEmbedding\u001b[49m\u001b[43m(\u001b[49m\u001b[43m)\u001b[49m\n",
      "\u001b[0;31mTypeError\u001b[0m: Embedding.__init__() missing 2 required positional arguments: 'num_embeddings' and 'embedding_dim'"
     ]
    }
   ],
   "source": [
    "# word embedding\n",
    "embedding = nn.Embedding()"
   ]
  },
  {
   "cell_type": "code",
   "execution_count": 6,
   "id": "be1ec0ce",
   "metadata": {},
   "outputs": [],
   "source": [
    "# position encoding\n",
    "class PositionEncoding(nn.Module):\n",
    "\n",
    "    def __init__(self, d_model=2, max_len=6):\n",
    "\n",
    "        super().__init__()\n",
    "\n",
    "        pe = torch.zeros(max_len, d_model)\n",
    "\n",
    "        position = torch.arange(start=0, end=max_len, step=1).float().unsqueeze(1)\n",
    "        embedding_index = torch.arange(start=0, end=d_model, step=2).float()\n",
    "\n",
    "        div_term = 1/torch.tensor(10000.0) ** (embedding_index / d_model)\n",
    "\n",
    "        pe[:, 0::2] = torch.sin(position * div_term)\n",
    "        pe[:, 1::2] = torch.cos(position * div_term)\n",
    "\n",
    "        self.register_buffer('pe', pe)\n",
    "\n",
    "    def forward(self, word_embeddings):\n",
    "\n",
    "        return word_embeddings + self.pe[:word_embeddings.size(0), :]"
   ]
  },
  {
   "cell_type": "code",
   "execution_count": 10,
   "id": "689604a0",
   "metadata": {},
   "outputs": [],
   "source": [
    "# multi headed attention\n",
    "class Attention(nn.Module):\n",
    "\n",
    "    def __init__(self, d_model=2):\n",
    "\n",
    "        super().__init__()\n",
    "\n",
    "        self.W_q = nn.Linear(in_features=d_model, out_features=d_model, bias=False)\n",
    "        self.W_k = nn.Linear(in_features=d_model, out_features=d_model, bias=False)\n",
    "        self.W_v = nn.Linear(in_features=d_model, out_features=d_model, bias=False)\n",
    "\n",
    "        self.row_dim = 0\n",
    "        self.col_dim = 1\n",
    "\n",
    "    def forward(self, encodings_for_q, encodings_for_k, encodings_for_v, mask=None):\n",
    "\n",
    "        q = self.W_q(encodings_for_q)\n",
    "        k = self.W_k(encodings_for_k)\n",
    "        v = self.W_v(encodings_for_v)\n",
    "\n",
    "        sims = torch.matmul(q, k.transpose(dim0=self.row_dim, dim1=self.col_dim))\n",
    "\n",
    "        scaled_sims = sims / torch.tensor(k.size(self.col_dim)**0.5)\n",
    "\n",
    "        if mask is not None:\n",
    "            scaled_sims = scaled_sims.masked_fill(mask=mask, value=-1e9)\n",
    "\n",
    "        attention_percents = F.softmax(scaled_sims, dim=self.col_dim)\n",
    "\n",
    "        attention_scores = torch.matmul(attention_percents, v)\n",
    "\n",
    "        return attention_scores\n",
    "\n"
   ]
  },
  {
   "cell_type": "code",
   "execution_count": null,
   "id": "74e6e7ee",
   "metadata": {},
   "outputs": [],
   "source": [
    "# now create transformer\n",
    "class DecoderOnlyTransformer(L.LightningModule):\n",
    "\n",
    "    def __init__(self, num_tokens=4, d_model=2, max_len=6):\n",
    "\n",
    "        super().__init__()\n",
    "\n",
    "        self.we = nn.Embedding(num_embeddings=num_tokens,\n",
    "                               embedding_dim=d_model)\n",
    "        \n",
    "        self.pe = PositionEncoding(d_model=d_model,\n",
    "                                   max_len=max_len)\n",
    "        \n",
    "        self.self_attention = Attention(d_model=d_model)\n",
    "\n",
    "        self.fc_layer = nn.Linear(in_features=d_model, out_features=num_tokens)\n",
    "\n",
    "        self.loss = nn.CrossEntropyLoss()"
   ]
  }
 ],
 "metadata": {
  "kernelspec": {
   "display_name": "venv",
   "language": "python",
   "name": "python3"
  },
  "language_info": {
   "codemirror_mode": {
    "name": "ipython",
    "version": 3
   },
   "file_extension": ".py",
   "mimetype": "text/x-python",
   "name": "python",
   "nbconvert_exporter": "python",
   "pygments_lexer": "ipython3",
   "version": "3.10.16"
  }
 },
 "nbformat": 4,
 "nbformat_minor": 5
}
